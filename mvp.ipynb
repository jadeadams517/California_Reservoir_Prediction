{
 "cells": [
  {
   "cell_type": "markdown",
   "metadata": {},
   "source": [
    "# Predicting Reservoir Storage\n",
    "\n",
    "## Introduction\n",
    "My project's goal is to model and predic reservoir water levels in California. Using a previous years temperature and precipitation data, I hoped to see how accurately I could predict reservoir capacity and provide a range of possible values, not given the current water year data.\n",
    "\n",
    "This project is of utmost importance given California's intensifying climate crisis. For my process of data analysis and model training, I use Folsom Lake, the 10th largest dam in California and a key water supply for millions of its residents. My goal was to create a model that could use exogenous seasonal variables to predict seasonal water supply and its annual minimum.  \n",
    "\n",
    "Folsom Lake is going increasingly deep in its reserves during the extending droughts, having got to as low as 14% of its capacity in 2014. My ultimate goal is to predict the conditions that would cause Folsom Lake to be unusable, ie. near empty and unavailable for use as a water supply for the millions of people who rely on it, the agricultural companies, and the water-species. "
   ]
  },
  {
   "cell_type": "code",
   "execution_count": 1,
   "metadata": {},
   "outputs": [],
   "source": [
    "#import libraries\n",
    "\n",
    "import pandas as pd\n",
    "import matplotlib.pyplot as plt\n",
    "import numpy as np\n",
    "%matplotlib inline\n",
    "\n",
    "from statsmodels.graphics.tsaplots import plot_pacf\n",
    "from statsmodels.graphics.tsaplots import plot_acf\n",
    "from statsmodels.tsa.arima_model import ARMA\n",
    "from statsmodels.tsa.statespace.sarimax import SARIMAX\n",
    "from statsmodels.tsa.seasonal import seasonal_decompose\n",
    "import statsmodels.api as sm\n",
    "\n",
    "import warnings\n",
    "warnings.filterwarnings('ignore', 'statsmodels.tsa.arima_model.ARMA', FutureWarning)\n",
    "warnings.filterwarnings('ignore', 'statsmodels.tsa.arima_model.ARIMA', FutureWarning)\n",
    "\n",
    "from sklearn.model_selection import train_test_split\n",
    "from sklearn.metrics import mean_squared_error\n",
    "from sklearn.model_selection import TimeSeriesSplit\n",
    "\n",
    "\n"
   ]
  },
  {
   "cell_type": "markdown",
   "metadata": {},
   "source": [
    "### The Data\n",
    "\n",
    "To predict Folsom Lake's water storage, we can take daily data from the US Bureau of Reclamation. There is also an exogenous variable of interest which could help in predictions: the daily evaporation is available for each reservoir."
   ]
  },
  {
   "cell_type": "code",
   "execution_count": 2,
   "metadata": {},
   "outputs": [],
   "source": [
    "storage = pd.read_csv('data/folsomlake/folsom_storage.csv',header=7) #acre feet\n",
    "evaporation = pd.read_csv('data/folsomlake/folsom_evaporation.csv',header=7) #sum cfs 24 hr"
   ]
  },
  {
   "cell_type": "markdown",
   "metadata": {},
   "source": [
    "The 8-station Sierra Index tracks precipitation across the Northern Sierras, and is an accurate measure of the water coming into the Sacramento River watershed. The Sacramento River watershed is the largest watershed in California, and contains many of the key reservoirs we will be modelling.\n",
    "\n",
    "Meanwhile, the 5-station Sierra Index tracks precipitation in the Southern Sierras, and is a measure of the water year of the San Joaquin River watershed, the second largest watershed in the state.\n",
    "\n",
    "I downloaded these to utilize as an exogenous variable."
   ]
  },
  {
   "cell_type": "code",
   "execution_count": 3,
   "metadata": {},
   "outputs": [],
   "source": [
    "northsierra = pd.read_csv('data/8SI.csv')\n",
    "southsierra = pd.read_excel('data/5SI.xlsx')\n",
    "\n",
    "northsierra.rename({'Unnamed: 0':'date'},axis=1,inplace=True)"
   ]
  },
  {
   "cell_type": "code",
   "execution_count": 4,
   "metadata": {},
   "outputs": [
    {
     "data": {
      "text/html": [
       "<div>\n",
       "<style scoped>\n",
       "    .dataframe tbody tr th:only-of-type {\n",
       "        vertical-align: middle;\n",
       "    }\n",
       "\n",
       "    .dataframe tbody tr th {\n",
       "        vertical-align: top;\n",
       "    }\n",
       "\n",
       "    .dataframe thead th {\n",
       "        text-align: right;\n",
       "    }\n",
       "</style>\n",
       "<table border=\"1\" class=\"dataframe\">\n",
       "  <thead>\n",
       "    <tr style=\"text-align: right;\">\n",
       "      <th></th>\n",
       "      <th>STATION_ID</th>\n",
       "      <th>DURATION</th>\n",
       "      <th>SENSOR_NUMBER</th>\n",
       "      <th>SENS_TYPE</th>\n",
       "      <th>DATE TIME</th>\n",
       "      <th>OBS DATE</th>\n",
       "      <th>VALUE</th>\n",
       "      <th>DATA_FLAG</th>\n",
       "      <th>UNITS</th>\n",
       "    </tr>\n",
       "  </thead>\n",
       "  <tbody>\n",
       "    <tr>\n",
       "      <th>379</th>\n",
       "      <td>5SI</td>\n",
       "      <td>M</td>\n",
       "      <td>2</td>\n",
       "      <td>RAIN</td>\n",
       "      <td>NaN</td>\n",
       "      <td>20210801</td>\n",
       "      <td>0.04</td>\n",
       "      <td>NaN</td>\n",
       "      <td>INCHES</td>\n",
       "    </tr>\n",
       "    <tr>\n",
       "      <th>380</th>\n",
       "      <td>5SI</td>\n",
       "      <td>M</td>\n",
       "      <td>2</td>\n",
       "      <td>RAIN</td>\n",
       "      <td>NaN</td>\n",
       "      <td>20210901</td>\n",
       "      <td>0.10</td>\n",
       "      <td>NaN</td>\n",
       "      <td>INCHES</td>\n",
       "    </tr>\n",
       "    <tr>\n",
       "      <th>381</th>\n",
       "      <td>5SI</td>\n",
       "      <td>M</td>\n",
       "      <td>2</td>\n",
       "      <td>RAIN</td>\n",
       "      <td>NaN</td>\n",
       "      <td>20211001</td>\n",
       "      <td>6.61</td>\n",
       "      <td>NaN</td>\n",
       "      <td>INCHES</td>\n",
       "    </tr>\n",
       "    <tr>\n",
       "      <th>382</th>\n",
       "      <td>5SI</td>\n",
       "      <td>M</td>\n",
       "      <td>2</td>\n",
       "      <td>RAIN</td>\n",
       "      <td>NaN</td>\n",
       "      <td>20211101</td>\n",
       "      <td>NaN</td>\n",
       "      <td>NaN</td>\n",
       "      <td>INCHES</td>\n",
       "    </tr>\n",
       "    <tr>\n",
       "      <th>383</th>\n",
       "      <td>5SI</td>\n",
       "      <td>M</td>\n",
       "      <td>2</td>\n",
       "      <td>RAIN</td>\n",
       "      <td>NaN</td>\n",
       "      <td>20211201</td>\n",
       "      <td>NaN</td>\n",
       "      <td>NaN</td>\n",
       "      <td>INCHES</td>\n",
       "    </tr>\n",
       "  </tbody>\n",
       "</table>\n",
       "</div>"
      ],
      "text/plain": [
       "    STATION_ID DURATION  SENSOR_NUMBER SENS_TYPE  DATE TIME  OBS DATE  VALUE  \\\n",
       "379        5SI        M              2      RAIN        NaN  20210801   0.04   \n",
       "380        5SI        M              2      RAIN        NaN  20210901   0.10   \n",
       "381        5SI        M              2      RAIN        NaN  20211001   6.61   \n",
       "382        5SI        M              2      RAIN        NaN  20211101    NaN   \n",
       "383        5SI        M              2      RAIN        NaN  20211201    NaN   \n",
       "\n",
       "    DATA_FLAG   UNITS  \n",
       "379       NaN  INCHES  \n",
       "380       NaN  INCHES  \n",
       "381       NaN  INCHES  \n",
       "382       NaN  INCHES  \n",
       "383       NaN  INCHES  "
      ]
     },
     "execution_count": 4,
     "metadata": {},
     "output_type": "execute_result"
    }
   ],
   "source": [
    "southsierra.tail()"
   ]
  },
  {
   "cell_type": "markdown",
   "metadata": {},
   "source": [
    "### Data Preprocessing\n",
    "\n",
    "Editing the dataframes so they can be interpreted as time series and have matching start and end dates is crucial to our modelling. As water years begin October 1st each year, we will starting in October 1st 1990."
   ]
  },
  {
   "cell_type": "code",
   "execution_count": 5,
   "metadata": {},
   "outputs": [],
   "source": [
    "#drop unnecessary columns\n",
    "\n",
    "drop_list = ['Location','Parameter','Timestep','Aggregation','Units']\n",
    "\n",
    "storage.drop(drop_list,axis=1,inplace=True)\n",
    "evaporation.drop(drop_list,axis=1,inplace=True)"
   ]
  },
  {
   "cell_type": "code",
   "execution_count": 6,
   "metadata": {},
   "outputs": [
    {
     "data": {
      "text/html": [
       "<div>\n",
       "<style scoped>\n",
       "    .dataframe tbody tr th:only-of-type {\n",
       "        vertical-align: middle;\n",
       "    }\n",
       "\n",
       "    .dataframe tbody tr th {\n",
       "        vertical-align: top;\n",
       "    }\n",
       "\n",
       "    .dataframe thead th {\n",
       "        text-align: right;\n",
       "    }\n",
       "</style>\n",
       "<table border=\"1\" class=\"dataframe\">\n",
       "  <thead>\n",
       "    <tr style=\"text-align: right;\">\n",
       "      <th></th>\n",
       "      <th>Result</th>\n",
       "      <th>Datetime (UTC)</th>\n",
       "    </tr>\n",
       "  </thead>\n",
       "  <tbody>\n",
       "    <tr>\n",
       "      <th>11675</th>\n",
       "      <td>231948</td>\n",
       "      <td>2021-09-26 08:00:00</td>\n",
       "    </tr>\n",
       "    <tr>\n",
       "      <th>11676</th>\n",
       "      <td>231852</td>\n",
       "      <td>2021-09-27 08:00:00</td>\n",
       "    </tr>\n",
       "    <tr>\n",
       "      <th>11677</th>\n",
       "      <td>231138</td>\n",
       "      <td>2021-09-28 08:00:00</td>\n",
       "    </tr>\n",
       "    <tr>\n",
       "      <th>11678</th>\n",
       "      <td>230527</td>\n",
       "      <td>2021-09-29 08:00:00</td>\n",
       "    </tr>\n",
       "    <tr>\n",
       "      <th>11679</th>\n",
       "      <td>229541</td>\n",
       "      <td>2021-09-30 08:00:00</td>\n",
       "    </tr>\n",
       "  </tbody>\n",
       "</table>\n",
       "</div>"
      ],
      "text/plain": [
       "       Result       Datetime (UTC)\n",
       "11675  231948  2021-09-26 08:00:00\n",
       "11676  231852  2021-09-27 08:00:00\n",
       "11677  231138  2021-09-28 08:00:00\n",
       "11678  230527  2021-09-29 08:00:00\n",
       "11679  229541  2021-09-30 08:00:00"
      ]
     },
     "execution_count": 6,
     "metadata": {},
     "output_type": "execute_result"
    }
   ],
   "source": [
    "#adjust dates\n",
    "start_date = \"1990-10-01\"\n",
    "end_date = \"2021-10-01\"\n",
    "\n",
    "storage = storage[(storage['Datetime (UTC)'] >= start_date) & (storage['Datetime (UTC)'] <= end_date)]\n",
    "\n",
    "evaporation = evaporation[(evaporation['Datetime (UTC)'] >= start_date) & (evaporation['Datetime (UTC)'] <= end_date)]\n",
    "\n",
    "storage.tail()"
   ]
  },
  {
   "cell_type": "code",
   "execution_count": 7,
   "metadata": {},
   "outputs": [
    {
     "data": {
      "text/plain": [
       "0     1990-01-01\n",
       "1     1990-02-01\n",
       "2     1990-03-01\n",
       "3     1990-04-01\n",
       "4     1990-05-01\n",
       "         ...    \n",
       "379   2021-08-01\n",
       "380   2021-09-01\n",
       "381   2021-10-01\n",
       "382   2021-11-01\n",
       "383   2021-12-01\n",
       "Name: OBS DATE, Length: 384, dtype: datetime64[ns]"
      ]
     },
     "execution_count": 7,
     "metadata": {},
     "output_type": "execute_result"
    }
   ],
   "source": [
    "#convert north sierra and south sierra indices to time series data\n",
    "northsierra['date'] = pd.to_datetime(northsierra['date'])\n",
    "northsierra.set_index('date',inplace=True)\n",
    "\n",
    "drop_list = ['STATION_ID','DURATION','SENSOR_NUMBER','SENS_TYPE','DATE TIME','DATA_FLAG','UNITS']\n",
    "southsierra.drop(drop_list,axis=1,inplace=True)\n",
    "southsierra.tail(15)\n",
    "\n",
    "southsierra['OBS DATE'] = southsierra['OBS DATE'].apply(lambda x: pd.to_datetime(str(x),format='%Y%m%d'))\n",
    "\n",
    "southsierra['OBS DATE'] "
   ]
  },
  {
   "cell_type": "code",
   "execution_count": 11,
   "metadata": {},
   "outputs": [
    {
     "data": {
      "text/plain": [
       "[1990,\n",
       " 1991,\n",
       " 1992,\n",
       " 1993,\n",
       " 1994,\n",
       " 1995,\n",
       " 1996,\n",
       " 1997,\n",
       " 1998,\n",
       " 1999,\n",
       " 2000,\n",
       " 2001,\n",
       " 2002,\n",
       " 2003,\n",
       " 2004,\n",
       " 2005,\n",
       " 2006,\n",
       " 2007,\n",
       " 2008,\n",
       " 2009,\n",
       " 2010,\n",
       " 2011,\n",
       " 2012,\n",
       " 2013,\n",
       " 2014,\n",
       " 2015,\n",
       " 2016,\n",
       " 2017,\n",
       " 2018,\n",
       " 2019,\n",
       " 2020]"
      ]
     },
     "execution_count": 11,
     "metadata": {},
     "output_type": "execute_result"
    }
   ],
   "source": [
    "list(range(1990,2021))"
   ]
  },
  {
   "cell_type": "code",
   "execution_count": null,
   "metadata": {},
   "outputs": [],
   "source": []
  },
  {
   "cell_type": "code",
   "execution_count": null,
   "metadata": {},
   "outputs": [],
   "source": []
  },
  {
   "cell_type": "code",
   "execution_count": null,
   "metadata": {},
   "outputs": [],
   "source": []
  }
 ],
 "metadata": {
  "kernelspec": {
   "display_name": "Python (learn-env)",
   "language": "python",
   "name": "learn-env"
  },
  "language_info": {
   "codemirror_mode": {
    "name": "ipython",
    "version": 3
   },
   "file_extension": ".py",
   "mimetype": "text/x-python",
   "name": "python",
   "nbconvert_exporter": "python",
   "pygments_lexer": "ipython3",
   "version": "3.8.5"
  }
 },
 "nbformat": 4,
 "nbformat_minor": 4
}
