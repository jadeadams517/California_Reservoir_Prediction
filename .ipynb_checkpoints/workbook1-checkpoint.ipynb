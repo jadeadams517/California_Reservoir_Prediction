{
 "cells": [
  {
   "cell_type": "code",
   "execution_count": 6,
   "metadata": {},
   "outputs": [],
   "source": [
    "#import libraries\n",
    "\n",
    "import pandas as pd\n",
    "import matplotlib.pyplot as plt\n",
    "%matplotlib inline"
   ]
  },
  {
   "cell_type": "code",
   "execution_count": 2,
   "metadata": {},
   "outputs": [
    {
     "data": {
      "text/html": [
       "<div>\n",
       "<style scoped>\n",
       "    .dataframe tbody tr th:only-of-type {\n",
       "        vertical-align: middle;\n",
       "    }\n",
       "\n",
       "    .dataframe tbody tr th {\n",
       "        vertical-align: top;\n",
       "    }\n",
       "\n",
       "    .dataframe thead th {\n",
       "        text-align: right;\n",
       "    }\n",
       "</style>\n",
       "<table border=\"1\" class=\"dataframe\">\n",
       "  <thead>\n",
       "    <tr style=\"text-align: right;\">\n",
       "      <th></th>\n",
       "      <th>Location</th>\n",
       "      <th>Parameter</th>\n",
       "      <th>Result</th>\n",
       "      <th>Units</th>\n",
       "      <th>Timestep</th>\n",
       "      <th>Aggregation</th>\n",
       "      <th>Datetime (UTC)</th>\n",
       "    </tr>\n",
       "  </thead>\n",
       "  <tbody>\n",
       "    <tr>\n",
       "      <th>0</th>\n",
       "      <td>Folsom Lake Dam and Powerplant</td>\n",
       "      <td>Lake/Reservoir Storage</td>\n",
       "      <td>5300.0</td>\n",
       "      <td>af</td>\n",
       "      <td>daily</td>\n",
       "      <td>instant</td>\n",
       "      <td>1955-03-01 08:00:00</td>\n",
       "    </tr>\n",
       "    <tr>\n",
       "      <th>1</th>\n",
       "      <td>Folsom Lake Dam and Powerplant</td>\n",
       "      <td>Lake/Reservoir Storage</td>\n",
       "      <td>5500.0</td>\n",
       "      <td>af</td>\n",
       "      <td>daily</td>\n",
       "      <td>instant</td>\n",
       "      <td>1955-03-02 08:00:00</td>\n",
       "    </tr>\n",
       "    <tr>\n",
       "      <th>2</th>\n",
       "      <td>Folsom Lake Dam and Powerplant</td>\n",
       "      <td>Lake/Reservoir Storage</td>\n",
       "      <td>4900.0</td>\n",
       "      <td>af</td>\n",
       "      <td>daily</td>\n",
       "      <td>instant</td>\n",
       "      <td>1955-03-03 08:00:00</td>\n",
       "    </tr>\n",
       "    <tr>\n",
       "      <th>3</th>\n",
       "      <td>Folsom Lake Dam and Powerplant</td>\n",
       "      <td>Lake/Reservoir Storage</td>\n",
       "      <td>5000.0</td>\n",
       "      <td>af</td>\n",
       "      <td>daily</td>\n",
       "      <td>instant</td>\n",
       "      <td>1955-03-04 08:00:00</td>\n",
       "    </tr>\n",
       "    <tr>\n",
       "      <th>4</th>\n",
       "      <td>Folsom Lake Dam and Powerplant</td>\n",
       "      <td>Lake/Reservoir Storage</td>\n",
       "      <td>4900.0</td>\n",
       "      <td>af</td>\n",
       "      <td>daily</td>\n",
       "      <td>instant</td>\n",
       "      <td>1955-03-05 08:00:00</td>\n",
       "    </tr>\n",
       "  </tbody>\n",
       "</table>\n",
       "</div>"
      ],
      "text/plain": [
       "                         Location               Parameter  Result Units  \\\n",
       "0  Folsom Lake Dam and Powerplant  Lake/Reservoir Storage  5300.0    af   \n",
       "1  Folsom Lake Dam and Powerplant  Lake/Reservoir Storage  5500.0    af   \n",
       "2  Folsom Lake Dam and Powerplant  Lake/Reservoir Storage  4900.0    af   \n",
       "3  Folsom Lake Dam and Powerplant  Lake/Reservoir Storage  5000.0    af   \n",
       "4  Folsom Lake Dam and Powerplant  Lake/Reservoir Storage  4900.0    af   \n",
       "\n",
       "  Timestep Aggregation       Datetime (UTC)  \n",
       "0    daily     instant  1955-03-01 08:00:00  \n",
       "1    daily     instant  1955-03-02 08:00:00  \n",
       "2    daily     instant  1955-03-03 08:00:00  \n",
       "3    daily     instant  1955-03-04 08:00:00  \n",
       "4    daily     instant  1955-03-05 08:00:00  "
      ]
     },
     "execution_count": 2,
     "metadata": {},
     "output_type": "execute_result"
    }
   ],
   "source": [
    "#load data\n",
    "\n",
    "precipitation = pd.read_csv('data/folsomlake_daily_precipitation.csv',header=7)\n",
    "storage = pd.read_csv('data/folsomlake_daily_storage.csv',header=7)\n",
    "release = pd.read_csv('data/folsomlake_daily_release.csv',header=7)\n",
    "inflow = pd.read_csv('data/folsomlake_daily_inflow.csv',header=7) #avg cfs 24 hr\n",
    "evaporation = pd.read_csv('data/folsomlake_daily_evaporation.csv',header=7) #avg cfs 24 hr\n",
    "storage.head()"
   ]
  },
  {
   "cell_type": "code",
   "execution_count": 3,
   "metadata": {},
   "outputs": [],
   "source": [
    "#fix data\n",
    "\n",
    "#drop unnecessary columns\n",
    "\n",
    "drop_list = ['Location','Parameter','Timestep','Aggregation']\n",
    "\n",
    "storage.drop(drop_list,axis=1,inplace=True)\n",
    "precipitation.drop(drop_list,axis=1,inplace=True)\n",
    "evaporation.drop(drop_list,axis=1,inplace=True)\n",
    "release.drop(drop_list,axis=1,inplace=True)\n",
    "inflow.drop(drop_list,axis=1,inplace=True)"
   ]
  },
  {
   "cell_type": "code",
   "execution_count": 4,
   "metadata": {},
   "outputs": [
    {
     "data": {
      "text/html": [
       "<div>\n",
       "<style scoped>\n",
       "    .dataframe tbody tr th:only-of-type {\n",
       "        vertical-align: middle;\n",
       "    }\n",
       "\n",
       "    .dataframe tbody tr th {\n",
       "        vertical-align: top;\n",
       "    }\n",
       "\n",
       "    .dataframe thead th {\n",
       "        text-align: right;\n",
       "    }\n",
       "</style>\n",
       "<table border=\"1\" class=\"dataframe\">\n",
       "  <thead>\n",
       "    <tr style=\"text-align: right;\">\n",
       "      <th></th>\n",
       "      <th>Result</th>\n",
       "      <th>Units</th>\n",
       "      <th>Datetime (UTC)</th>\n",
       "    </tr>\n",
       "  </thead>\n",
       "  <tbody>\n",
       "    <tr>\n",
       "      <th>0</th>\n",
       "      <td>0.0</td>\n",
       "      <td>cfs</td>\n",
       "      <td>1966-01-01 08:00:00</td>\n",
       "    </tr>\n",
       "    <tr>\n",
       "      <th>1</th>\n",
       "      <td>0.0</td>\n",
       "      <td>cfs</td>\n",
       "      <td>1966-01-02 08:00:00</td>\n",
       "    </tr>\n",
       "    <tr>\n",
       "      <th>2</th>\n",
       "      <td>28.0</td>\n",
       "      <td>cfs</td>\n",
       "      <td>1966-01-03 08:00:00</td>\n",
       "    </tr>\n",
       "    <tr>\n",
       "      <th>3</th>\n",
       "      <td>8.0</td>\n",
       "      <td>cfs</td>\n",
       "      <td>1966-01-04 08:00:00</td>\n",
       "    </tr>\n",
       "    <tr>\n",
       "      <th>4</th>\n",
       "      <td>0.0</td>\n",
       "      <td>cfs</td>\n",
       "      <td>1966-01-05 08:00:00</td>\n",
       "    </tr>\n",
       "    <tr>\n",
       "      <th>5</th>\n",
       "      <td>0.0</td>\n",
       "      <td>cfs</td>\n",
       "      <td>1966-01-06 08:00:00</td>\n",
       "    </tr>\n",
       "    <tr>\n",
       "      <th>6</th>\n",
       "      <td>14.0</td>\n",
       "      <td>cfs</td>\n",
       "      <td>1966-01-07 08:00:00</td>\n",
       "    </tr>\n",
       "    <tr>\n",
       "      <th>7</th>\n",
       "      <td>11.0</td>\n",
       "      <td>cfs</td>\n",
       "      <td>1966-01-08 08:00:00</td>\n",
       "    </tr>\n",
       "    <tr>\n",
       "      <th>8</th>\n",
       "      <td>11.0</td>\n",
       "      <td>cfs</td>\n",
       "      <td>1966-01-09 08:00:00</td>\n",
       "    </tr>\n",
       "    <tr>\n",
       "      <th>9</th>\n",
       "      <td>6.0</td>\n",
       "      <td>cfs</td>\n",
       "      <td>1966-01-10 08:00:00</td>\n",
       "    </tr>\n",
       "  </tbody>\n",
       "</table>\n",
       "</div>"
      ],
      "text/plain": [
       "   Result Units       Datetime (UTC)\n",
       "0     0.0   cfs  1966-01-01 08:00:00\n",
       "1     0.0   cfs  1966-01-02 08:00:00\n",
       "2    28.0   cfs  1966-01-03 08:00:00\n",
       "3     8.0   cfs  1966-01-04 08:00:00\n",
       "4     0.0   cfs  1966-01-05 08:00:00\n",
       "5     0.0   cfs  1966-01-06 08:00:00\n",
       "6    14.0   cfs  1966-01-07 08:00:00\n",
       "7    11.0   cfs  1966-01-08 08:00:00\n",
       "8    11.0   cfs  1966-01-09 08:00:00\n",
       "9     6.0   cfs  1966-01-10 08:00:00"
      ]
     },
     "execution_count": 4,
     "metadata": {},
     "output_type": "execute_result"
    }
   ],
   "source": [
    "evaporation.head(10)"
   ]
  },
  {
   "cell_type": "code",
   "execution_count": 5,
   "metadata": {},
   "outputs": [
    {
     "name": "stdout",
     "output_type": "stream",
     "text": [
      "<class 'pandas.core.frame.DataFrame'>\n",
      "DatetimeIndex: 23013 entries, 1955-03-01 08:00:00 to 2020-03-02 08:00:00\n",
      "Data columns (total 2 columns):\n",
      " #   Column  Non-Null Count  Dtype  \n",
      "---  ------  --------------  -----  \n",
      " 0   Result  23013 non-null  float64\n",
      " 1   Units   23013 non-null  object \n",
      "dtypes: float64(1), object(1)\n",
      "memory usage: 539.4+ KB\n"
     ]
    }
   ],
   "source": [
    "#convert cols to datetime\n",
    "\n",
    "storage['Datetime (UTC)']= pd.to_datetime(storage['Datetime (UTC)'])\n",
    "precipitation['Datetime (UTC)']= pd.to_datetime(precipitation['Datetime (UTC)'])\n",
    "evaporation['Datetime (UTC)']= pd.to_datetime(evaporation['Datetime (UTC)'])\n",
    "release['Datetime (UTC)']= pd.to_datetime(release['Datetime (UTC)'])\n",
    "inflow['Datetime (UTC)']= pd.to_datetime(inflow['Datetime (UTC)'])\n",
    "\n",
    "\n",
    "#set datetime as index\n",
    "\n",
    "storage.set_index('Datetime (UTC)',inplace=True)\n",
    "precipitation.set_index('Datetime (UTC)',inplace=True)\n",
    "evaporation.set_index('Datetime (UTC)',inplace=True)\n",
    "release.set_index('Datetime (UTC)',inplace=True)\n",
    "inflow.set_index('Datetime (UTC)',inplace=True)\n",
    "\n",
    "storage.info()"
   ]
  },
  {
   "cell_type": "code",
   "execution_count": 7,
   "metadata": {},
   "outputs": [
    {
     "data": {
      "text/plain": [
       "<AxesSubplot:xlabel='Datetime (UTC)'>"
      ]
     },
     "execution_count": 7,
     "metadata": {},
     "output_type": "execute_result"
    },
    {
     "data": {
      "image/png": "[encoded data removed]",
      "text/plain": [
       "<Figure size 432x288 with 1 Axes>"
      ]
     },
     "metadata": {
      "needs_background": "light"
     },
     "output_type": "display_data"
    }
   ],
   "source": [
    "storage.plot()"
   ]
  },
  {
   "cell_type": "code",
   "execution_count": 10,
   "metadata": {},
   "outputs": [
    {
     "data": {
      "text/plain": [
       "<AxesSubplot:xlabel='Datetime (UTC)'>"
      ]
     },
     "execution_count": 10,
     "metadata": {},
     "output_type": "execute_result"
    },
    {
     "data": {
      "image/png": "[encoded data removed]",
      "text/plain": [
       "<Figure size 432x288 with 1 Axes>"
      ]
     },
     "metadata": {
      "needs_background": "light"
     },
     "output_type": "display_data"
    }
   ],
   "source": [
    "release.plot()"
   ]
  },
  {
   "cell_type": "code",
   "execution_count": null,
   "metadata": {},
   "outputs": [],
   "source": []
  }
 ],
 "metadata": {
  "kernelspec": {
   "display_name": "Python (learn-env)",
   "language": "python",
   "name": "learn-env"
  },
  "language_info": {
   "codemirror_mode": {
    "name": "ipython",
    "version": 3
   },
   "file_extension": ".py",
   "mimetype": "text/x-python",
   "name": "python",
   "nbconvert_exporter": "python",
   "pygments_lexer": "ipython3",
   "version": "3.8.5"
  }
 },
 "nbformat": 4,
 "nbformat_minor": 4
}
