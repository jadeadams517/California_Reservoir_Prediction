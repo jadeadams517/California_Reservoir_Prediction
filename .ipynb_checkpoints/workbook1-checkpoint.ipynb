{
 "cells": [
  {
   "cell_type": "code",
   "execution_count": 1,
   "metadata": {},
   "outputs": [],
   "source": [
    "#import libraries\n",
    "\n",
    "import pandas as pd\n",
    "import matplotlib.pyplot as plt\n",
    "import numpy as np\n",
    "%matplotlib inline\n",
    "\n",
    "from statsmodels.graphics.tsaplots import plot_pacf\n",
    "from statsmodels.graphics.tsaplots import plot_acf\n",
    "from statsmodels.tsa.arima_model import ARMA\n",
    "import statsmodels.api as sm\n",
    "\n",
    "import warnings\n",
    "warnings.filterwarnings('ignore', 'statsmodels.tsa.arima_model.ARMA',\n",
    "                        FutureWarning)\n",
    "warnings.filterwarnings('ignore', 'statsmodels.tsa.arima_model.ARIMA',\n",
    "                        FutureWarning)\n",
    "\n",
    "from sklearn.model_selection import train_test_split"
   ]
  },
  {
   "cell_type": "code",
   "execution_count": 2,
   "metadata": {},
   "outputs": [
    {
     "data": {
      "text/html": [
       "<div>\n",
       "<style scoped>\n",
       "    .dataframe tbody tr th:only-of-type {\n",
       "        vertical-align: middle;\n",
       "    }\n",
       "\n",
       "    .dataframe tbody tr th {\n",
       "        vertical-align: top;\n",
       "    }\n",
       "\n",
       "    .dataframe thead th {\n",
       "        text-align: right;\n",
       "    }\n",
       "</style>\n",
       "<table border=\"1\" class=\"dataframe\">\n",
       "  <thead>\n",
       "    <tr style=\"text-align: right;\">\n",
       "      <th></th>\n",
       "      <th>Location</th>\n",
       "      <th>Parameter</th>\n",
       "      <th>Result</th>\n",
       "      <th>Units</th>\n",
       "      <th>Timestep</th>\n",
       "      <th>Aggregation</th>\n",
       "      <th>Datetime (UTC)</th>\n",
       "    </tr>\n",
       "  </thead>\n",
       "  <tbody>\n",
       "    <tr>\n",
       "      <th>0</th>\n",
       "      <td>Folsom Lake Dam and Powerplant</td>\n",
       "      <td>Lake/Reservoir Inflow</td>\n",
       "      <td>2000.00</td>\n",
       "      <td>cfs</td>\n",
       "      <td>daily</td>\n",
       "      <td>average</td>\n",
       "      <td>1955-03-01 08:00:00</td>\n",
       "    </tr>\n",
       "    <tr>\n",
       "      <th>1</th>\n",
       "      <td>Folsom Lake Dam and Powerplant</td>\n",
       "      <td>Lake/Reservoir Inflow</td>\n",
       "      <td>1966.83</td>\n",
       "      <td>cfs</td>\n",
       "      <td>daily</td>\n",
       "      <td>average</td>\n",
       "      <td>1955-03-02 08:00:00</td>\n",
       "    </tr>\n",
       "    <tr>\n",
       "      <th>2</th>\n",
       "      <td>Folsom Lake Dam and Powerplant</td>\n",
       "      <td>Lake/Reservoir Inflow</td>\n",
       "      <td>1832.50</td>\n",
       "      <td>cfs</td>\n",
       "      <td>daily</td>\n",
       "      <td>average</td>\n",
       "      <td>1955-03-03 08:00:00</td>\n",
       "    </tr>\n",
       "    <tr>\n",
       "      <th>3</th>\n",
       "      <td>Folsom Lake Dam and Powerplant</td>\n",
       "      <td>Lake/Reservoir Inflow</td>\n",
       "      <td>1983.42</td>\n",
       "      <td>cfs</td>\n",
       "      <td>daily</td>\n",
       "      <td>average</td>\n",
       "      <td>1955-03-04 08:00:00</td>\n",
       "    </tr>\n",
       "    <tr>\n",
       "      <th>4</th>\n",
       "      <td>Folsom Lake Dam and Powerplant</td>\n",
       "      <td>Lake/Reservoir Inflow</td>\n",
       "      <td>1899.58</td>\n",
       "      <td>cfs</td>\n",
       "      <td>daily</td>\n",
       "      <td>average</td>\n",
       "      <td>1955-03-05 08:00:00</td>\n",
       "    </tr>\n",
       "  </tbody>\n",
       "</table>\n",
       "</div>"
      ],
      "text/plain": [
       "                         Location              Parameter   Result Units  \\\n",
       "0  Folsom Lake Dam and Powerplant  Lake/Reservoir Inflow  2000.00   cfs   \n",
       "1  Folsom Lake Dam and Powerplant  Lake/Reservoir Inflow  1966.83   cfs   \n",
       "2  Folsom Lake Dam and Powerplant  Lake/Reservoir Inflow  1832.50   cfs   \n",
       "3  Folsom Lake Dam and Powerplant  Lake/Reservoir Inflow  1983.42   cfs   \n",
       "4  Folsom Lake Dam and Powerplant  Lake/Reservoir Inflow  1899.58   cfs   \n",
       "\n",
       "  Timestep Aggregation       Datetime (UTC)  \n",
       "0    daily     average  1955-03-01 08:00:00  \n",
       "1    daily     average  1955-03-02 08:00:00  \n",
       "2    daily     average  1955-03-03 08:00:00  \n",
       "3    daily     average  1955-03-04 08:00:00  \n",
       "4    daily     average  1955-03-05 08:00:00  "
      ]
     },
     "execution_count": 2,
     "metadata": {},
     "output_type": "execute_result"
    }
   ],
   "source": [
    "#load data\n",
    "\n",
    "precipitation = pd.read_csv('data/folsomlake_daily_precipitation.csv',header=7) #inch total\n",
    "storage = pd.read_csv('data/folsomlake_daily_storage.csv',header=7) #acre feet\n",
    "release = pd.read_csv('data/folsomlake_daily_release.csv',header=7) #avg cfs 24 hr\n",
    "inflow = pd.read_csv('data/folsomlake_daily_inflow.csv',header=7) #avg cfs 24 hr\n",
    "evaporation = pd.read_csv('data/folsomlake_daily_evaporation.csv',header=7) #sum cfs 24 hr\n",
    "inflow.head()"
   ]
  },
  {
   "cell_type": "code",
   "execution_count": 3,
   "metadata": {},
   "outputs": [],
   "source": [
    "#fix data\n",
    "\n",
    "#drop unnecessary columns\n",
    "\n",
    "drop_list = ['Location','Parameter','Timestep','Aggregation','Units']\n",
    "\n",
    "storage.drop(drop_list,axis=1,inplace=True)\n",
    "precipitation.drop(drop_list,axis=1,inplace=True)\n",
    "evaporation.drop(drop_list,axis=1,inplace=True)\n",
    "release.drop(drop_list,axis=1,inplace=True)\n",
    "inflow.drop(drop_list,axis=1,inplace=True)"
   ]
  },
  {
   "cell_type": "code",
   "execution_count": 4,
   "metadata": {},
   "outputs": [],
   "source": [
    "# edit df's to start at 1966\n",
    "start_date = \"1966-03-01\"\n",
    "end_date = \"2020-03-02\"\n",
    "\n",
    "storage = storage[(storage['Datetime (UTC)'] >= start_date) & (storage['Datetime (UTC)'] <= end_date)]\n",
    "\n",
    "precipitation = precipitation[(precipitation['Datetime (UTC)'] >= start_date) & (precipitation['Datetime (UTC)'] <= end_date)]\n",
    "\n",
    "release = release[(release['Datetime (UTC)'] >= start_date) & (release['Datetime (UTC)'] <= end_date)]\n",
    "\n",
    "evaporation = evaporation[(evaporation['Datetime (UTC)'] >= start_date) & (evaporation['Datetime (UTC)'] <= end_date)]\n",
    "\n",
    "inflow = inflow[(inflow['Datetime (UTC)'] >= start_date) & (inflow['Datetime (UTC)'] <= end_date)]\n",
    "\n",
    "\n"
   ]
  },
  {
   "cell_type": "code",
   "execution_count": 5,
   "metadata": {},
   "outputs": [
    {
     "name": "stdout",
     "output_type": "stream",
     "text": [
      "<class 'pandas.core.frame.DataFrame'>\n",
      "Index: 19725 entries, 1966-03-01 to 2020-03-01\n",
      "Data columns (total 1 columns):\n",
      " #   Column  Non-Null Count  Dtype  \n",
      "---  ------  --------------  -----  \n",
      " 0   Result  19725 non-null  float64\n",
      "dtypes: float64(1)\n",
      "memory usage: 308.2+ KB\n"
     ]
    }
   ],
   "source": [
    "#convert cols to datetime, simplify name\n",
    "\n",
    "storage['date']= pd.to_datetime(storage['Datetime (UTC)']).dt.date\n",
    "precipitation['date']= pd.to_datetime(precipitation['Datetime (UTC)']).dt.date\n",
    "evaporation['date']= pd.to_datetime(evaporation['Datetime (UTC)']).dt.date\n",
    "release['date']= pd.to_datetime(release['Datetime (UTC)']).dt.date\n",
    "inflow['date']= pd.to_datetime(inflow['Datetime (UTC)']).dt.date\n",
    "\n",
    "#collect dates in df for future time series\n",
    "\n",
    "ts_date = storage['date']\n",
    "\n",
    "\n",
    "#drop duplicate\n",
    "storage.drop('Datetime (UTC)',axis=1,inplace=True)\n",
    "precipitation.drop('Datetime (UTC)',axis=1,inplace=True)\n",
    "evaporation.drop('Datetime (UTC)',axis=1,inplace=True)\n",
    "release.drop('Datetime (UTC)',axis=1,inplace=True)\n",
    "inflow.drop('Datetime (UTC)',axis=1,inplace=True)\n",
    "\n",
    "\n",
    "#set date as index\n",
    "\n",
    "storage.set_index('date',inplace=True)\n",
    "precipitation.set_index('date',inplace=True)\n",
    "evaporation.set_index('date',inplace=True)\n",
    "release.set_index('date',inplace=True)\n",
    "inflow.set_index('date',inplace=True)\n",
    "\n",
    "storage.info()"
   ]
  },
  {
   "cell_type": "code",
   "execution_count": 6,
   "metadata": {},
   "outputs": [],
   "source": [
    "#rename cols from result to specific \n",
    "\n",
    "storage.rename(columns= {'Result': 'storage'},inplace=True)\n",
    "precipitation.rename(columns= {'Result': 'precipitation'},inplace=True)\n",
    "evaporation.rename(columns= {'Result': 'evaporation'},inplace=True)\n",
    "release.rename(columns= {'Result': 'release'},inplace=True)\n",
    "inflow.rename(columns= {'Result': 'inflow'},inplace=True)\n",
    "\n",
    "\n",
    "\n"
   ]
  },
  {
   "cell_type": "code",
   "execution_count": 7,
   "metadata": {},
   "outputs": [
    {
     "data": {
      "text/html": [
       "<div>\n",
       "<style scoped>\n",
       "    .dataframe tbody tr th:only-of-type {\n",
       "        vertical-align: middle;\n",
       "    }\n",
       "\n",
       "    .dataframe tbody tr th {\n",
       "        vertical-align: top;\n",
       "    }\n",
       "\n",
       "    .dataframe thead th {\n",
       "        text-align: right;\n",
       "    }\n",
       "</style>\n",
       "<table border=\"1\" class=\"dataframe\">\n",
       "  <thead>\n",
       "    <tr style=\"text-align: right;\">\n",
       "      <th></th>\n",
       "      <th>STATION</th>\n",
       "      <th>NAME</th>\n",
       "      <th>DATE</th>\n",
       "      <th>DAPR</th>\n",
       "      <th>MDPR</th>\n",
       "      <th>PRCP</th>\n",
       "      <th>SNOW</th>\n",
       "      <th>SNWD</th>\n",
       "      <th>TMAX</th>\n",
       "      <th>TMIN</th>\n",
       "      <th>TOBS</th>\n",
       "    </tr>\n",
       "  </thead>\n",
       "  <tbody>\n",
       "    <tr>\n",
       "      <th>2191</th>\n",
       "      <td>USC00041912</td>\n",
       "      <td>COLFAX, CA US</td>\n",
       "      <td>1966-03-01</td>\n",
       "      <td>NaN</td>\n",
       "      <td>NaN</td>\n",
       "      <td>0.13</td>\n",
       "      <td>0.0</td>\n",
       "      <td>0.0</td>\n",
       "      <td>45.0</td>\n",
       "      <td>32.0</td>\n",
       "      <td>35.0</td>\n",
       "    </tr>\n",
       "    <tr>\n",
       "      <th>2192</th>\n",
       "      <td>USC00041912</td>\n",
       "      <td>COLFAX, CA US</td>\n",
       "      <td>1966-03-02</td>\n",
       "      <td>NaN</td>\n",
       "      <td>NaN</td>\n",
       "      <td>0.00</td>\n",
       "      <td>0.0</td>\n",
       "      <td>0.0</td>\n",
       "      <td>NaN</td>\n",
       "      <td>NaN</td>\n",
       "      <td>NaN</td>\n",
       "    </tr>\n",
       "    <tr>\n",
       "      <th>2193</th>\n",
       "      <td>USC00041912</td>\n",
       "      <td>COLFAX, CA US</td>\n",
       "      <td>1966-03-03</td>\n",
       "      <td>NaN</td>\n",
       "      <td>NaN</td>\n",
       "      <td>NaN</td>\n",
       "      <td>0.0</td>\n",
       "      <td>0.0</td>\n",
       "      <td>NaN</td>\n",
       "      <td>NaN</td>\n",
       "      <td>NaN</td>\n",
       "    </tr>\n",
       "    <tr>\n",
       "      <th>2194</th>\n",
       "      <td>USC00041912</td>\n",
       "      <td>COLFAX, CA US</td>\n",
       "      <td>1966-03-04</td>\n",
       "      <td>NaN</td>\n",
       "      <td>NaN</td>\n",
       "      <td>NaN</td>\n",
       "      <td>0.0</td>\n",
       "      <td>0.0</td>\n",
       "      <td>48.0</td>\n",
       "      <td>22.0</td>\n",
       "      <td>45.0</td>\n",
       "    </tr>\n",
       "    <tr>\n",
       "      <th>2195</th>\n",
       "      <td>USC00041912</td>\n",
       "      <td>COLFAX, CA US</td>\n",
       "      <td>1966-03-05</td>\n",
       "      <td>3.0</td>\n",
       "      <td>0.12</td>\n",
       "      <td>NaN</td>\n",
       "      <td>0.0</td>\n",
       "      <td>0.0</td>\n",
       "      <td>58.0</td>\n",
       "      <td>37.0</td>\n",
       "      <td>46.0</td>\n",
       "    </tr>\n",
       "  </tbody>\n",
       "</table>\n",
       "</div>"
      ],
      "text/plain": [
       "          STATION           NAME        DATE  DAPR  MDPR  PRCP  SNOW  SNWD  \\\n",
       "2191  USC00041912  COLFAX, CA US  1966-03-01   NaN   NaN  0.13   0.0   0.0   \n",
       "2192  USC00041912  COLFAX, CA US  1966-03-02   NaN   NaN  0.00   0.0   0.0   \n",
       "2193  USC00041912  COLFAX, CA US  1966-03-03   NaN   NaN   NaN   0.0   0.0   \n",
       "2194  USC00041912  COLFAX, CA US  1966-03-04   NaN   NaN   NaN   0.0   0.0   \n",
       "2195  USC00041912  COLFAX, CA US  1966-03-05   3.0  0.12   NaN   0.0   0.0   \n",
       "\n",
       "      TMAX  TMIN  TOBS  \n",
       "2191  45.0  32.0  35.0  \n",
       "2192   NaN   NaN   NaN  \n",
       "2193   NaN   NaN   NaN  \n",
       "2194  48.0  22.0  45.0  \n",
       "2195  58.0  37.0  46.0  "
      ]
     },
     "execution_count": 7,
     "metadata": {},
     "output_type": "execute_result"
    }
   ],
   "source": [
    "#load data from NOAA on colfax station data\n",
    "\n",
    "noaa = pd.read_csv('data/colfax_data.csv')\n",
    "\n",
    "#from 1966 onwards\n",
    "\n",
    "noaa = noaa[(noaa['DATE'] >= start_date) & (noaa['DATE'] <= end_date)]\n",
    "\n",
    "noaa.head()"
   ]
  },
  {
   "cell_type": "code",
   "execution_count": 8,
   "metadata": {},
   "outputs": [],
   "source": [
    "#clean noaa\n",
    "noaa['date'] = pd.to_datetime(noaa['DATE']).dt.date\n",
    "\n",
    "noaa.drop(['STATION','NAME','DAPR','MDPR','TOBS','DATE','PRCP'],axis=1,inplace=True)\n",
    "\n",
    "\n",
    "\n",
    "noaa.set_index('date',inplace=True)\n"
   ]
  },
  {
   "cell_type": "code",
   "execution_count": 9,
   "metadata": {},
   "outputs": [
    {
     "name": "stdout",
     "output_type": "stream",
     "text": [
      "<class 'pandas.core.frame.DataFrame'>\n",
      "Index: 19725 entries, 1966-03-01 to 2016-07-14\n",
      "Data columns (total 9 columns):\n",
      " #   Column         Non-Null Count  Dtype  \n",
      "---  ------         --------------  -----  \n",
      " 0   SNOW           16898 non-null  float64\n",
      " 1   SNWD           16306 non-null  float64\n",
      " 2   TMAX           18803 non-null  float64\n",
      " 3   TMIN           18800 non-null  float64\n",
      " 4   precipitation  19725 non-null  float64\n",
      " 5   evaporation    19723 non-null  float64\n",
      " 6   inflow         19725 non-null  float64\n",
      " 7   release        19725 non-null  float64\n",
      " 8   storage        19725 non-null  float64\n",
      "dtypes: float64(9)\n",
      "memory usage: 1.5+ MB\n"
     ]
    }
   ],
   "source": [
    "#merge datasets\n",
    "from functools import reduce\n",
    "df_list = [noaa,precipitation,evaporation, inflow, release,storage]\n",
    "\n",
    "data = reduce(lambda left,right: pd.merge(left,right,on=['date'],how='outer'),df_list)\n",
    "\n",
    "data.info()"
   ]
  },
  {
   "cell_type": "code",
   "execution_count": 10,
   "metadata": {},
   "outputs": [],
   "source": [
    "# build train test split\n",
    "\n",
    "\n",
    "#set target and data\n",
    "X = data.drop('storage',axis=1)\n",
    "y = data['storage']\n",
    "\n",
    "\n",
    "from sklearn.model_selection import TimeSeriesSplit\n",
    "\n",
    "\n",
    "#splits data into 80% train, 20% test\n",
    "tss= TimeSeriesSplit(n_splits=5)\n",
    "\n",
    "for train, test in tss.split(X):\n",
    "    X_train, X_test = X.iloc[train,:],X.iloc[test,:]\n",
    "    y_train, y_test = y.iloc[train], y.iloc[test]"
   ]
  },
  {
   "cell_type": "code",
   "execution_count": 16,
   "metadata": {},
   "outputs": [
    {
     "data": {
      "text/plain": [
       "False    19725\n",
       "Name: date, dtype: int64"
      ]
     },
     "execution_count": 16,
     "metadata": {},
     "output_type": "execute_result"
    }
   ],
   "source": [
    "ts_date.isna().value_counts()"
   ]
  },
  {
   "cell_type": "code",
   "execution_count": 23,
   "metadata": {},
   "outputs": [
    {
     "name": "stdout",
     "output_type": "stream",
     "text": [
      "19725\n",
      "19725\n",
      "False    16438\n",
      "Name: date, dtype: int64 False    16438\n",
      "Name: storage, dtype: int64\n",
      "False    16438\n",
      "Name: storage, dtype: int64\n"
     ]
    },
    {
     "name": "stderr",
     "output_type": "stream",
     "text": [
      "/Users/jadeadams/opt/anaconda3/envs/learn-env/lib/python3.8/site-packages/statsmodels/tsa/arima_model.py:472: FutureWarning: \n",
      "statsmodels.tsa.arima_model.ARMA and statsmodels.tsa.arima_model.ARIMA have\n",
      "been deprecated in favor of statsmodels.tsa.arima.model.ARIMA (note the .\n",
      "between arima and model) and\n",
      "statsmodels.tsa.SARIMAX. These will be removed after the 0.12 release.\n",
      "\n",
      "statsmodels.tsa.arima.model.ARIMA makes use of the statespace framework and\n",
      "is both well tested and maintained.\n",
      "\n",
      "To silence this warning and continue using ARMA and ARIMA until they are\n",
      "removed, use:\n",
      "\n",
      "import warnings\n",
      "warnings.filterwarnings('ignore', 'statsmodels.tsa.arima_model.ARMA',\n",
      "                        FutureWarning)\n",
      "warnings.filterwarnings('ignore', 'statsmodels.tsa.arima_model.ARIMA',\n",
      "                        FutureWarning)\n",
      "\n",
      "  warnings.warn(ARIMA_DEPRECATION_WARN, FutureWarning)\n",
      "/Users/jadeadams/opt/anaconda3/envs/learn-env/lib/python3.8/site-packages/statsmodels/tsa/base/tsa_model.py:524: ValueWarning: No frequency information was provided, so inferred frequency D will be used.\n",
      "  warnings.warn('No frequency information was'\n"
     ]
    },
    {
     "name": "stdout",
     "output_type": "stream",
     "text": [
      "                              ARMA Model Results                              \n",
      "==============================================================================\n",
      "Dep. Variable:                storage   No. Observations:                16438\n",
      "Model:                     ARMA(1, 1)   Log Likelihood             -166940.016\n",
      "Method:                       css-mle   S.D. of innovations           6226.589\n",
      "Date:                Fri, 26 Nov 2021   AIC                         333888.031\n",
      "Time:                        23:14:11   BIC                         333918.860\n",
      "Sample:                    03-01-1966   HQIC                        333898.214\n",
      "                         - 03-02-2011                                         \n",
      "=================================================================================\n",
      "                    coef    std err          z      P>|z|      [0.025      0.975]\n",
      "---------------------------------------------------------------------------------\n",
      "const          6.063e+05   6.04e+04     10.036      0.000    4.88e+05    7.25e+05\n",
      "ar.L1.storage     0.9989      0.000   2874.838      0.000       0.998       1.000\n",
      "ma.L1.storage     0.4439      0.006     73.670      0.000       0.432       0.456\n",
      "                                    Roots                                    \n",
      "=============================================================================\n",
      "                  Real          Imaginary           Modulus         Frequency\n",
      "-----------------------------------------------------------------------------\n",
      "AR.1            1.0011           +0.0000j            1.0011            0.0000\n",
      "MA.1           -2.2528           +0.0000j            2.2528            0.5000\n",
      "-----------------------------------------------------------------------------\n"
     ]
    }
   ],
   "source": [
    "#build endogenous model, with input time only\n",
    "\n",
    "#train test split time series data\n",
    "X = ts_date\n",
    "\n",
    "\n",
    "print(len(ts_date))\n",
    "print(len(y))\n",
    "\n",
    "\n",
    "#train test split\n",
    "for train, test in tss.split(X):\n",
    "    date_train, date_test = X.iloc[train],X.iloc[test]\n",
    "    target_train, target_test = y.iloc[train], y.iloc[test]\n",
    "\n",
    "print(date_train.isna().value_counts(),target_train.isna().value_counts())\n",
    "\n",
    "\n",
    "train_ts = pd.Series(target_train,index= date_train).fillna(method='ffill')\n",
    "test_ts = pd.Series(target_test,index=date_test).fillna(method='ffill')\n",
    "\n",
    "print(train_ts.isna().value_counts())\n",
    "arma_ts = ARMA(train_ts,order=(1,1))\n",
    "\n",
    "res_arma = arma_ts.fit()\n",
    "\n",
    "print(res_arma.summary());"
   ]
  },
  {
   "cell_type": "code",
   "execution_count": 24,
   "metadata": {},
   "outputs": [
    {
     "data": {
      "text/plain": [
       "const            606340.017703\n",
       "ar.L1.storage         0.998898\n",
       "ma.L1.storage         0.443890\n",
       "dtype: float64"
      ]
     },
     "execution_count": 24,
     "metadata": {},
     "output_type": "execute_result"
    }
   ],
   "source": [
    "res_arma.params"
   ]
  },
  {
   "cell_type": "code",
   "execution_count": 28,
   "metadata": {},
   "outputs": [
    {
     "data": {
      "image/png": "[encoded data removed]",
      "text/plain": [
       "<Figure size 432x288 with 1 Axes>"
      ]
     },
     "execution_count": 28,
     "metadata": {},
     "output_type": "execute_result"
    },
    {
     "data": {
      "image/png": "[encoded data removed]",
      "text/plain": [
       "<Figure size 432x288 with 1 Axes>"
      ]
     },
     "metadata": {
      "needs_background": "light"
     },
     "output_type": "display_data"
    }
   ],
   "source": [
    "plot_pacf(train_ts,lags=2)"
   ]
  },
  {
   "cell_type": "code",
   "execution_count": null,
   "metadata": {},
   "outputs": [],
   "source": []
  }
 ],
 "metadata": {
  "kernelspec": {
   "display_name": "Python (learn-env)",
   "language": "python",
   "name": "learn-env"
  },
  "language_info": {
   "codemirror_mode": {
    "name": "ipython",
    "version": 3
   },
   "file_extension": ".py",
   "mimetype": "text/x-python",
   "name": "python",
   "nbconvert_exporter": "python",
   "pygments_lexer": "ipython3",
   "version": "3.8.5"
  }
 },
 "nbformat": 4,
 "nbformat_minor": 4
}
